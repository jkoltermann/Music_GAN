{
 "cells": [
  {
   "attachments": {},
   "cell_type": "markdown",
   "metadata": {},
   "source": [
    "### Pull top artists across genres"
   ]
  },
  {
   "cell_type": "code",
   "execution_count": 2,
   "metadata": {},
   "outputs": [],
   "source": [
    "import pandas as pd\n",
    "import numpy as np\n",
    "import requests\n",
    "from requests import HTTPError\n",
    "import json\n",
    "import spotipy\n",
    "from spotipy import SpotifyException\n",
    "from spotipy.oauth2 import SpotifyClientCredentials\n",
    "from sqlalchemy import create_engine\n",
    "import time\n",
    "import os\n",
    "import ast\n",
    "import itertools"
   ]
  },
  {
   "cell_type": "code",
   "execution_count": 6,
   "metadata": {},
   "outputs": [],
   "source": [
    "class api_handling:\n",
    "    def __init__(self, save_location, client_id = None, client_secret = None):\n",
    "        self.client_id = \"bf7981913014450c8a984eb79eaad419\"\n",
    "        self.client_secret = 'a763340271dd406c89f230459f4abfff'\n",
    "        self.save_location = save_location\n",
    "        self.source = spotipy.Spotify(\n",
    "            client_credentials_manager=SpotifyClientCredentials(client_id=self.client_id,client_secret=self.client_secret)\n",
    "            )\n",
    "        self.frames = {}\n",
    "        self.offset_counts = {}\n",
    "        self.errors = {}\n",
    "\n",
    "        session = requests.Session()\n",
    "        session.timeout = 15  # set timeout to 10 seconds\n",
    "        \n",
    "\n",
    "\n",
    "    def error_note(self, frame_key, note_tuple):\n",
    "        if frame_key in self.errors.keys():\n",
    "            self.errors[frame_key].append(note_tuple)\n",
    "        else:\n",
    "            self.errors[frame_key] = []\n",
    "\n",
    "    def search(self,query:str,t:str,framekey:str,apply_offset = False):\n",
    "        #calls spotipy search method\n",
    "        if not apply_offset:\n",
    "            return self.source.search(q=query,limit=50,offset=0,type=t)\n",
    "        if framekey in self.offset_counts.keys():\n",
    "            return self.source.search(q=query,limit=50,offset=self.offset_counts[framekey],type=t)\n",
    "        else:\n",
    "            return self.source.search(q=query,limit=50,offset=0,type=t)\n",
    "\n",
    "\n",
    "    def new_main_df(self,frame_key, pull, overwrite=False):\n",
    "        #adds frame to class instance with safety built in to prevent overwriting accidentally\n",
    "        if overwrite:\n",
    "\n",
    "            if type(pull) == pd.DataFrame:\n",
    "                self.frames[frame_key] = pull\n",
    "                self.offset_counts[frame_key] = 0\n",
    "\n",
    "            elif type(pull) == list:\n",
    "                pull = self.dict_transform(pull)\n",
    "                self.frames[frame_key] = pd.DataFrame(pull, index='id')\n",
    "                self.offset_counts[frame_key] = 0\n",
    "\n",
    "            else:\n",
    "                assert type(pull) == dict, 'send a dict if not a list of dictionaries, sent type: {}'.format(type(pull))\n",
    "                pull = self.dict_transform([pull])\n",
    "                self.frames[frame_key] = pd.DataFrame(pull) \n",
    "                self.offset_counts[frame_key] = 0\n",
    "\n",
    "        else:\n",
    "            assert not frame_key in self.frames.keys(), 'Dataframe already exists. Either overwrite or choose new name.'\n",
    "            self.frames[frame_key] = pd.DataFrame(pull)\n",
    "            self.offset_counts[frame_key] = 0\n",
    "\n",
    "\n",
    "    def append_to_frame(self, frame_key, pull):\n",
    "        assert self.frame_exists(frame_key), 'create frame first'\n",
    "        assert type(pull) == list or type(pull) == pd.DataFrame, 'Pull parameter must be pd.DataFrame or list of Dataframes'\n",
    "\n",
    "        if type(pull) == list:\n",
    "            pull = self.dict_transform(pull)\n",
    "            self.frames[frame_key] = pd.concat([self.frames[frame_key],pd.DataFrame(pull)])#, ignore_index=True\n",
    "\n",
    "        if type(pull) == pd.DataFrame:\n",
    "            self.frames[frame_key] = pd.concat([self.frames[frame_key],pull])\n",
    "            self.offset_counts[frame_key] = self.frames[frame_key].shape[0]\n",
    "\n",
    "\n",
    "    def frame_exists(self,frame_key):\n",
    "        if frame_key in self.frames.keys():\n",
    "            return True\n",
    "        else:\n",
    "            return False\n",
    "\n",
    "    def pull_set(self, query, pull_count, frame_key, t, apply_offset=True):\n",
    "        '''\n",
    "        PURPOSE: Call the 'search' spotipy method more than once, with safeguards for not calling the API too often\n",
    "        PARAMETERS:\n",
    "        query is language passed to the spotipy method\n",
    "        pull_count is the quantity of pulls (50 each)\n",
    "        frames_key is the key for what is stored in the dictionary full of each dataframe pulled using this class \n",
    "        t is the type parameter in the spotipy method\n",
    "        '''\n",
    "        #artists\n",
    "        sleep_count = 25\n",
    "        #pulls between rests\n",
    "\n",
    "        while pull_count > 0:\n",
    "            \n",
    "            pull = self.search(query = query,framekey=frame_key,t = t,apply_offset=apply_offset)\n",
    "            \n",
    "            pull = pd.DataFrame(pull[str(t)+'s']['items'])\n",
    "            \n",
    "            if self.frame_exists(frame_key):\n",
    "                self.append_to_frame(frame_key,pull)    \n",
    "\n",
    "            else:\n",
    "                self.new_main_df(frame_key,pull)\n",
    "\n",
    "            if sleep_count == 0:\n",
    "                time.sleep(15)\n",
    "                sleep_count = 15\n",
    "            else:\n",
    "                sleep_count -= 1\n",
    "\n",
    "            pull_count -= 1\n",
    "            \n",
    "\n",
    "    def pull_artists(self,genre,pull_count):\n",
    "        #pull artists by genre\n",
    "        self.pull_set(query='genre:{}'.format(genre),frame_key='artists',pull_count=pull_count,t='artist')\n",
    "\n",
    "\n",
    "    def pull_tracks(self, pull_count:int):\n",
    "        #pull tracks by artists located in self.frames\n",
    "        assert self.frame_exists('artists'), 'No artist data in class instance'\n",
    "        assert self.frame_exists('song_data'), 'No song_data found in self.frames'\n",
    "\n",
    "        for artist in self.frames['artists'].name.unique():\n",
    "            if artist in self.frames['song_data'].name:\n",
    "                pass\n",
    "            else:\n",
    "                self.pull_set(query='artist:{}'.format(artist),frame_key='song_data',pull_count=1,t='track',apply_offset=False)\n",
    "                time.sleep(0.5)\n",
    "        self.frames['song_data'].dropna(inplace=True)\n",
    "\n",
    "\n",
    "    def pull_track_features(self):\n",
    "        # pull all spotify characteristics from the .features method\n",
    "        hundred_list=[[]]\n",
    "        #group of 100 (or less) artists at a time\n",
    "        for track_key in self.frames['song_data'].index:\n",
    "            if type(track_key) == str:\n",
    "                if len(hundred_list[-1]) == 100:\n",
    "                    hundred_list.append([track_key])\n",
    "                else:\n",
    "                    hundred_list[-1].append(track_key)\n",
    "\n",
    "        flattened_bucket = []\n",
    "        #return flattened_bucket\n",
    "        for song_keys in hundred_list:\n",
    "            # pull in bunches of 100\n",
    "            pull = self.source.audio_features(song_keys)\n",
    "            for row in pull:\n",
    "                # flatten list of lists consisting of 100 or less rows each, to just a single list of rows, named flattened_bucket\n",
    "                flattened_bucket.append(row)\n",
    "\n",
    "            if not self.frame_exists('track_features'):\n",
    "                self.new_main_df(frame_key='track_features',pull=pull, overwrite=True)\n",
    "            else:\n",
    "                self.append_to_frame(frame_key='track_features',pull=pull)\n",
    "\n",
    "\n",
    "    def pull_track_analysis(self, max_iterations=10_000):\n",
    "        track_pulls = []\n",
    "        save_when_zero = 2000\n",
    "        rest_when_zero = 500\n",
    "        iter_count = 0\n",
    "\n",
    "        if self.frame_exists('track_analysis'):\n",
    "            data_needed = [str(x) for x in list(self.frames['song_data'].index.unique()) if not x in list(self.frames['track_analysis'].id.unique())]\n",
    "        else:\n",
    "            data_needed = [str(x) for x in self.frames['song_data'].index]\n",
    "\n",
    "        for track_key in data_needed:\n",
    "            #these are the unique spotify song ids being used for the query\n",
    "\n",
    "            if iter_count > max_iterations:\n",
    "                break\n",
    "\n",
    "            if rest_when_zero == 0:\n",
    "                time.sleep(2)\n",
    "                rest_when_zero = 500\n",
    "\n",
    "            if save_when_zero == 0:\n",
    "                if self.frame_exists('track_analysis'):\n",
    "                    self.append_to_frame('track_analysis',pull=track_pulls)\n",
    "                    track_pulls = []\n",
    "                else:\n",
    "                    self.new_main_df(frame_key='track_analysis',pull=track_pulls, overwrite=True)\n",
    "                    track_pulls = []\n",
    "                save_when_zero = 2000\n",
    "\n",
    "            rest_when_zero -= 1\n",
    "            save_when_zero -= 1\n",
    "            iter_count += 1\n",
    "\n",
    "            try:\n",
    "                pull = self.source.audio_analysis(track_id=track_key)\n",
    "                pull['id'] = track_key\n",
    "                track_pulls.append(pull)\n",
    "\n",
    "            except:\n",
    "                continue\n",
    "            \n",
    "        if self.frame_exists('track_analysis'):\n",
    "            self.append_to_frame('track_analysis',pull=track_pulls)\n",
    "        else:\n",
    "            self.new_main_df(frame_key='track_analysis',pull=track_pulls, overwrite=True)\n",
    "            \n",
    "\n",
    "    def csv_pull(self,overwrite=False):\n",
    "        for file in os.listdir(self.save_location):\n",
    "            if file[-3:] == 'csv':\n",
    "                self.new_main_df(file[:-4],pd.read_csv(self.save_location + file,index_col=0),overwrite=overwrite)\n",
    "\n",
    "\n",
    "    def remove_substring_cols(self,col_substring:str,frame_key:str):\n",
    "        # removes columns from a frame that has a substring in the column name\n",
    "        # rename eventually\n",
    "        remove_list = []\n",
    "        for col in self.frames[frame_key].columns.values:\n",
    "            if col_substring in col:\n",
    "                remove_list.append(col)\n",
    "        self.frames[frame_key].drop(columns=remove_list,inplace=True)\n",
    "\n",
    "\n",
    "    def convert_literals(self, frame_key:str, column_names:list):\n",
    "        # some of the initial data pulled from spotipy returns dictionaries as column values,\n",
    "        # some of these column subdictionaries store the dictionaries in a string format\n",
    "        # in order to clean these strings must be converted into their native type\n",
    "        assert type(column_names) == list or type(column_names) == str, 'col parameter must be str or list'\n",
    "        assert self.frame_exists(frame_key), 'called frame that does not exist'\n",
    "\n",
    "        for column in column_names:\n",
    "            assert column in self.frames[frame_key].columns, 'column name does not exist: {}'.format(column)\n",
    "            self.frames[frame_key][column] = [ast.literal_eval(x) for x in self.frames[frame_key][column]]\n",
    "\n",
    "\n",
    "    def save(self,frame_key):\n",
    "        assert self.frame_exists(frame_key), 'called frame that does not exist'\n",
    "        self.frames[frame_key].to_csv(self.save_location + frame_key + '.csv')\n",
    "\n",
    "\n",
    "    @staticmethod\n",
    "    def dict_transform(pull):\n",
    "        '''\n",
    "        PARAMETER: list of dictionaries\n",
    "        FUNCTION: pandas prefers a single dictionary, with each key as a column name and corresponding value as an array of each value in the entire column\n",
    "        '''\n",
    "        assert type(pull) == list, 'send list. if single item, send encased within a list'\n",
    "        output = {}\n",
    "        for entry in pull:\n",
    "            for key in entry.keys():\n",
    "                if key in output.keys():\n",
    "                    output[key].append(entry[key])\n",
    "                else:\n",
    "                    output[key] = [entry[key]]\n",
    "\n",
    "        return output"
   ]
  },
  {
   "attachments": {},
   "cell_type": "markdown",
   "metadata": {},
   "source": [
    "#### Instantiate Class & Read in Existing Saved-Data "
   ]
  },
  {
   "cell_type": "code",
   "execution_count": 7,
   "metadata": {},
   "outputs": [],
   "source": [
    "data = api_handling(save_location='../Data/')\n",
    "data.csv_pull(overwrite=True)"
   ]
  },
  {
   "attachments": {},
   "cell_type": "markdown",
   "metadata": {},
   "source": [
    "#### Call the following methods to reproduce: "
   ]
  },
  {
   "attachments": {},
   "cell_type": "markdown",
   "metadata": {},
   "source": [
    "#### Note to reader: "
   ]
  },
  {
   "attachments": {},
   "cell_type": "markdown",
   "metadata": {},
   "source": [
    "- The way that I have built my api handler required that I keep this notebook clean of unnescessary calls, so please see below for an overview of my download process"
   ]
  },
  {
   "attachments": {},
   "cell_type": "markdown",
   "metadata": {},
   "source": [
    "- pull_artists(self,genre,pull_count) -> This will return a collection of artists from genre you choose and will save it into the api_handling.frames attribute. This is a dictionary with every dataframe you pull down from the api\n",
    "- pull_tracks(self, pull_count:int) -> This will similarly pull into your instance of api_handling.frames\n",
    "- pull_track_features(self) -> No need to put parameters in, it will automatically create a new df in apihandling.frames and will reference every song in your frames['song_data'] instance created by pull_tracks\n",
    "- pull_track_analysis(self,max_iterations) -> This method pulls a lot of data down regarding the analysis features of the track used in my GAN. it Temporarily saves it into a dataframe, but the datapoints are multi-level dictionaries. See below for how I call this in a loop\n",
    "- save(self,file_name) -> call once finished downloading. "
   ]
  },
  {
   "attachments": {},
   "cell_type": "markdown",
   "metadata": {},
   "source": [
    "- I pull my feature set together in in Data_Setting.ipynb"
   ]
  },
  {
   "cell_type": "code",
   "execution_count": 8,
   "metadata": {},
   "outputs": [
    {
     "name": "stdout",
     "output_type": "stream",
     "text": [
      "on epoch: 1\n",
      "----on iteration: 1\n"
     ]
    },
    {
     "name": "stderr",
     "output_type": "stream",
     "text": [
      "HTTP Error for GET to https://api.spotify.com/v1/audio-analysis/1AbxRPvSQPSlNxoPJ89JE7 with Params: {} returned 404 due to analysis not found\n",
      "Max Retries reached\n",
      "Max Retries reached\n",
      "Max Retries reached\n",
      "HTTP Error for GET to https://api.spotify.com/v1/audio-analysis/2zroDn77wnGL0e6PXu7ZMj with Params: {} returned 404 due to analysis not found\n",
      "HTTP Error for GET to https://api.spotify.com/v1/audio-analysis/nan with Params: {} returned 400 due to invalid request\n",
      "Max Retries reached\n",
      "HTTP Error for GET to https://api.spotify.com/v1/audio-analysis/5FvcpP9xqu6wAw56f2ZUbE with Params: {} returned 404 due to analysis not found\n",
      "HTTP Error for GET to https://api.spotify.com/v1/audio-analysis/3tc9Kbro2cpggcOWTRTS5x with Params: {} returned 404 due to analysis not found\n"
     ]
    },
    {
     "name": "stdout",
     "output_type": "stream",
     "text": [
      "----on iteration: 2\n"
     ]
    },
    {
     "name": "stderr",
     "output_type": "stream",
     "text": [
      "HTTP Error for GET to https://api.spotify.com/v1/audio-analysis/1AbxRPvSQPSlNxoPJ89JE7 with Params: {} returned 404 due to analysis not found\n",
      "Max Retries reached\n",
      "Max Retries reached\n",
      "Max Retries reached\n",
      "HTTP Error for GET to https://api.spotify.com/v1/audio-analysis/2zroDn77wnGL0e6PXu7ZMj with Params: {} returned 404 due to analysis not found\n",
      "HTTP Error for GET to https://api.spotify.com/v1/audio-analysis/nan with Params: {} returned 400 due to invalid request\n",
      "Max Retries reached\n",
      "HTTP Error for GET to https://api.spotify.com/v1/audio-analysis/5FvcpP9xqu6wAw56f2ZUbE with Params: {} returned 404 due to analysis not found\n",
      "HTTP Error for GET to https://api.spotify.com/v1/audio-analysis/3tc9Kbro2cpggcOWTRTS5x with Params: {} returned 404 due to analysis not found\n"
     ]
    },
    {
     "name": "stdout",
     "output_type": "stream",
     "text": [
      "----on iteration: 3\n"
     ]
    },
    {
     "name": "stderr",
     "output_type": "stream",
     "text": [
      "HTTP Error for GET to https://api.spotify.com/v1/audio-analysis/1AbxRPvSQPSlNxoPJ89JE7 with Params: {} returned 404 due to analysis not found\n",
      "Max Retries reached\n",
      "Max Retries reached\n",
      "Max Retries reached\n",
      "HTTP Error for GET to https://api.spotify.com/v1/audio-analysis/2zroDn77wnGL0e6PXu7ZMj with Params: {} returned 404 due to analysis not found\n",
      "HTTP Error for GET to https://api.spotify.com/v1/audio-analysis/nan with Params: {} returned 400 due to invalid request\n",
      "HTTP Error for GET to https://api.spotify.com/v1/audio-analysis/5FvcpP9xqu6wAw56f2ZUbE with Params: {} returned 404 due to analysis not found\n",
      "HTTP Error for GET to https://api.spotify.com/v1/audio-analysis/3tc9Kbro2cpggcOWTRTS5x with Params: {} returned 404 due to analysis not found\n"
     ]
    },
    {
     "name": "stdout",
     "output_type": "stream",
     "text": [
      "----on iteration: 4\n"
     ]
    },
    {
     "name": "stderr",
     "output_type": "stream",
     "text": [
      "HTTP Error for GET to https://api.spotify.com/v1/audio-analysis/1AbxRPvSQPSlNxoPJ89JE7 with Params: {} returned 404 due to analysis not found\n",
      "Max Retries reached\n",
      "Max Retries reached\n",
      "Max Retries reached\n",
      "HTTP Error for GET to https://api.spotify.com/v1/audio-analysis/2zroDn77wnGL0e6PXu7ZMj with Params: {} returned 404 due to analysis not found\n",
      "HTTP Error for GET to https://api.spotify.com/v1/audio-analysis/nan with Params: {} returned 400 due to invalid request\n",
      "Max Retries reached\n",
      "HTTP Error for GET to https://api.spotify.com/v1/audio-analysis/5FvcpP9xqu6wAw56f2ZUbE with Params: {} returned 404 due to analysis not found\n",
      "HTTP Error for GET to https://api.spotify.com/v1/audio-analysis/3tc9Kbro2cpggcOWTRTS5x with Params: {} returned 404 due to analysis not found\n"
     ]
    },
    {
     "name": "stdout",
     "output_type": "stream",
     "text": [
      "----on iteration: 5\n"
     ]
    },
    {
     "name": "stderr",
     "output_type": "stream",
     "text": [
      "HTTP Error for GET to https://api.spotify.com/v1/audio-analysis/1AbxRPvSQPSlNxoPJ89JE7 with Params: {} returned 404 due to analysis not found\n",
      "Max Retries reached\n",
      "Max Retries reached\n",
      "Max Retries reached\n",
      "HTTP Error for GET to https://api.spotify.com/v1/audio-analysis/2zroDn77wnGL0e6PXu7ZMj with Params: {} returned 404 due to analysis not found\n",
      "HTTP Error for GET to https://api.spotify.com/v1/audio-analysis/nan with Params: {} returned 400 due to invalid request\n",
      "Max Retries reached\n",
      "HTTP Error for GET to https://api.spotify.com/v1/audio-analysis/5FvcpP9xqu6wAw56f2ZUbE with Params: {} returned 404 due to analysis not found\n",
      "HTTP Error for GET to https://api.spotify.com/v1/audio-analysis/3tc9Kbro2cpggcOWTRTS5x with Params: {} returned 404 due to analysis not found\n"
     ]
    },
    {
     "name": "stdout",
     "output_type": "stream",
     "text": [
      "----on iteration: 6\n"
     ]
    },
    {
     "name": "stderr",
     "output_type": "stream",
     "text": [
      "HTTP Error for GET to https://api.spotify.com/v1/audio-analysis/1AbxRPvSQPSlNxoPJ89JE7 with Params: {} returned 404 due to analysis not found\n",
      "Max Retries reached\n",
      "Max Retries reached\n",
      "Max Retries reached\n",
      "HTTP Error for GET to https://api.spotify.com/v1/audio-analysis/2zroDn77wnGL0e6PXu7ZMj with Params: {} returned 404 due to analysis not found\n",
      "HTTP Error for GET to https://api.spotify.com/v1/audio-analysis/nan with Params: {} returned 400 due to invalid request\n",
      "Max Retries reached\n",
      "HTTP Error for GET to https://api.spotify.com/v1/audio-analysis/5FvcpP9xqu6wAw56f2ZUbE with Params: {} returned 404 due to analysis not found\n",
      "HTTP Error for GET to https://api.spotify.com/v1/audio-analysis/3tc9Kbro2cpggcOWTRTS5x with Params: {} returned 404 due to analysis not found\n"
     ]
    },
    {
     "name": "stdout",
     "output_type": "stream",
     "text": [
      "----on iteration: 7\n"
     ]
    },
    {
     "name": "stderr",
     "output_type": "stream",
     "text": [
      "HTTP Error for GET to https://api.spotify.com/v1/audio-analysis/1AbxRPvSQPSlNxoPJ89JE7 with Params: {} returned 404 due to analysis not found\n",
      "Max Retries reached\n",
      "Max Retries reached\n",
      "Max Retries reached\n",
      "HTTP Error for GET to https://api.spotify.com/v1/audio-analysis/2zroDn77wnGL0e6PXu7ZMj with Params: {} returned 404 due to analysis not found\n",
      "HTTP Error for GET to https://api.spotify.com/v1/audio-analysis/nan with Params: {} returned 400 due to invalid request\n",
      "Max Retries reached\n",
      "HTTP Error for GET to https://api.spotify.com/v1/audio-analysis/5FvcpP9xqu6wAw56f2ZUbE with Params: {} returned 404 due to analysis not found\n",
      "HTTP Error for GET to https://api.spotify.com/v1/audio-analysis/3tc9Kbro2cpggcOWTRTS5x with Params: {} returned 404 due to analysis not found\n"
     ]
    },
    {
     "name": "stdout",
     "output_type": "stream",
     "text": [
      "----on iteration: 8\n"
     ]
    },
    {
     "name": "stderr",
     "output_type": "stream",
     "text": [
      "HTTP Error for GET to https://api.spotify.com/v1/audio-analysis/1AbxRPvSQPSlNxoPJ89JE7 with Params: {} returned 404 due to analysis not found\n",
      "Max Retries reached\n",
      "Max Retries reached\n",
      "Max Retries reached\n",
      "HTTP Error for GET to https://api.spotify.com/v1/audio-analysis/2zroDn77wnGL0e6PXu7ZMj with Params: {} returned 404 due to analysis not found\n",
      "HTTP Error for GET to https://api.spotify.com/v1/audio-analysis/nan with Params: {} returned 400 due to invalid request\n",
      "Max Retries reached\n",
      "HTTP Error for GET to https://api.spotify.com/v1/audio-analysis/5FvcpP9xqu6wAw56f2ZUbE with Params: {} returned 404 due to analysis not found\n",
      "HTTP Error for GET to https://api.spotify.com/v1/audio-analysis/3tc9Kbro2cpggcOWTRTS5x with Params: {} returned 404 due to analysis not found\n"
     ]
    },
    {
     "name": "stdout",
     "output_type": "stream",
     "text": [
      "----on iteration: 9\n"
     ]
    },
    {
     "name": "stderr",
     "output_type": "stream",
     "text": [
      "HTTP Error for GET to https://api.spotify.com/v1/audio-analysis/1AbxRPvSQPSlNxoPJ89JE7 with Params: {} returned 404 due to analysis not found\n",
      "Max Retries reached\n",
      "Max Retries reached\n",
      "HTTP Error for GET to https://api.spotify.com/v1/audio-analysis/2zroDn77wnGL0e6PXu7ZMj with Params: {} returned 404 due to analysis not found\n",
      "HTTP Error for GET to https://api.spotify.com/v1/audio-analysis/nan with Params: {} returned 400 due to invalid request\n",
      "Max Retries reached\n",
      "HTTP Error for GET to https://api.spotify.com/v1/audio-analysis/5FvcpP9xqu6wAw56f2ZUbE with Params: {} returned 404 due to analysis not found\n",
      "HTTP Error for GET to https://api.spotify.com/v1/audio-analysis/3tc9Kbro2cpggcOWTRTS5x with Params: {} returned 404 due to analysis not found\n"
     ]
    },
    {
     "name": "stdout",
     "output_type": "stream",
     "text": [
      "----on iteration: 10\n"
     ]
    },
    {
     "name": "stderr",
     "output_type": "stream",
     "text": [
      "HTTP Error for GET to https://api.spotify.com/v1/audio-analysis/1AbxRPvSQPSlNxoPJ89JE7 with Params: {} returned 404 due to analysis not found\n",
      "Max Retries reached\n",
      "Max Retries reached\n",
      "Max Retries reached\n",
      "HTTP Error for GET to https://api.spotify.com/v1/audio-analysis/2zroDn77wnGL0e6PXu7ZMj with Params: {} returned 404 due to analysis not found\n",
      "HTTP Error for GET to https://api.spotify.com/v1/audio-analysis/nan with Params: {} returned 400 due to invalid request\n",
      "Max Retries reached\n",
      "HTTP Error for GET to https://api.spotify.com/v1/audio-analysis/5FvcpP9xqu6wAw56f2ZUbE with Params: {} returned 404 due to analysis not found\n",
      "HTTP Error for GET to https://api.spotify.com/v1/audio-analysis/3tc9Kbro2cpggcOWTRTS5x with Params: {} returned 404 due to analysis not found\n"
     ]
    },
    {
     "name": "stdout",
     "output_type": "stream",
     "text": [
      "----on iteration: 11\n"
     ]
    },
    {
     "name": "stderr",
     "output_type": "stream",
     "text": [
      "HTTP Error for GET to https://api.spotify.com/v1/audio-analysis/1AbxRPvSQPSlNxoPJ89JE7 with Params: {} returned 404 due to analysis not found\n",
      "Max Retries reached\n",
      "Max Retries reached\n",
      "Max Retries reached\n",
      "HTTP Error for GET to https://api.spotify.com/v1/audio-analysis/2zroDn77wnGL0e6PXu7ZMj with Params: {} returned 404 due to analysis not found\n",
      "HTTP Error for GET to https://api.spotify.com/v1/audio-analysis/nan with Params: {} returned 400 due to invalid request\n",
      "Max Retries reached\n",
      "HTTP Error for GET to https://api.spotify.com/v1/audio-analysis/5FvcpP9xqu6wAw56f2ZUbE with Params: {} returned 404 due to analysis not found\n",
      "HTTP Error for GET to https://api.spotify.com/v1/audio-analysis/3tc9Kbro2cpggcOWTRTS5x with Params: {} returned 404 due to analysis not found\n"
     ]
    },
    {
     "name": "stdout",
     "output_type": "stream",
     "text": [
      "----on iteration: 12\n"
     ]
    },
    {
     "name": "stderr",
     "output_type": "stream",
     "text": [
      "HTTP Error for GET to https://api.spotify.com/v1/audio-analysis/1AbxRPvSQPSlNxoPJ89JE7 with Params: {} returned 404 due to analysis not found\n",
      "Max Retries reached\n",
      "Max Retries reached\n",
      "Max Retries reached\n",
      "HTTP Error for GET to https://api.spotify.com/v1/audio-analysis/2zroDn77wnGL0e6PXu7ZMj with Params: {} returned 404 due to analysis not found\n",
      "HTTP Error for GET to https://api.spotify.com/v1/audio-analysis/nan with Params: {} returned 400 due to invalid request\n",
      "Max Retries reached\n",
      "HTTP Error for GET to https://api.spotify.com/v1/audio-analysis/5FvcpP9xqu6wAw56f2ZUbE with Params: {} returned 404 due to analysis not found\n",
      "HTTP Error for GET to https://api.spotify.com/v1/audio-analysis/3tc9Kbro2cpggcOWTRTS5x with Params: {} returned 404 due to analysis not found\n"
     ]
    },
    {
     "name": "stdout",
     "output_type": "stream",
     "text": [
      "----on iteration: 13\n"
     ]
    },
    {
     "name": "stderr",
     "output_type": "stream",
     "text": [
      "HTTP Error for GET to https://api.spotify.com/v1/audio-analysis/1AbxRPvSQPSlNxoPJ89JE7 with Params: {} returned 404 due to analysis not found\n",
      "Max Retries reached\n",
      "Max Retries reached\n",
      "Max Retries reached\n",
      "HTTP Error for GET to https://api.spotify.com/v1/audio-analysis/2zroDn77wnGL0e6PXu7ZMj with Params: {} returned 404 due to analysis not found\n",
      "HTTP Error for GET to https://api.spotify.com/v1/audio-analysis/nan with Params: {} returned 400 due to invalid request\n",
      "Max Retries reached\n",
      "HTTP Error for GET to https://api.spotify.com/v1/audio-analysis/5FvcpP9xqu6wAw56f2ZUbE with Params: {} returned 404 due to analysis not found\n",
      "HTTP Error for GET to https://api.spotify.com/v1/audio-analysis/3tc9Kbro2cpggcOWTRTS5x with Params: {} returned 404 due to analysis not found\n"
     ]
    },
    {
     "name": "stdout",
     "output_type": "stream",
     "text": [
      "----on iteration: 14\n"
     ]
    },
    {
     "name": "stderr",
     "output_type": "stream",
     "text": [
      "HTTP Error for GET to https://api.spotify.com/v1/audio-analysis/1AbxRPvSQPSlNxoPJ89JE7 with Params: {} returned 404 due to analysis not found\n",
      "Max Retries reached\n",
      "Max Retries reached\n",
      "Max Retries reached\n",
      "HTTP Error for GET to https://api.spotify.com/v1/audio-analysis/2zroDn77wnGL0e6PXu7ZMj with Params: {} returned 404 due to analysis not found\n",
      "HTTP Error for GET to https://api.spotify.com/v1/audio-analysis/nan with Params: {} returned 400 due to invalid request\n",
      "Max Retries reached\n",
      "HTTP Error for GET to https://api.spotify.com/v1/audio-analysis/5FvcpP9xqu6wAw56f2ZUbE with Params: {} returned 404 due to analysis not found\n",
      "HTTP Error for GET to https://api.spotify.com/v1/audio-analysis/3tc9Kbro2cpggcOWTRTS5x with Params: {} returned 404 due to analysis not found\n"
     ]
    },
    {
     "name": "stdout",
     "output_type": "stream",
     "text": [
      "----on iteration: 15\n"
     ]
    },
    {
     "name": "stderr",
     "output_type": "stream",
     "text": [
      "HTTP Error for GET to https://api.spotify.com/v1/audio-analysis/1AbxRPvSQPSlNxoPJ89JE7 with Params: {} returned 404 due to analysis not found\n",
      "Max Retries reached\n",
      "Max Retries reached\n",
      "Max Retries reached\n",
      "HTTP Error for GET to https://api.spotify.com/v1/audio-analysis/2zroDn77wnGL0e6PXu7ZMj with Params: {} returned 404 due to analysis not found\n",
      "HTTP Error for GET to https://api.spotify.com/v1/audio-analysis/nan with Params: {} returned 400 due to invalid request\n",
      "Max Retries reached\n",
      "HTTP Error for GET to https://api.spotify.com/v1/audio-analysis/5FvcpP9xqu6wAw56f2ZUbE with Params: {} returned 404 due to analysis not found\n",
      "HTTP Error for GET to https://api.spotify.com/v1/audio-analysis/3tc9Kbro2cpggcOWTRTS5x with Params: {} returned 404 due to analysis not found\n"
     ]
    },
    {
     "name": "stdout",
     "output_type": "stream",
     "text": [
      "----on iteration: 16\n"
     ]
    },
    {
     "name": "stderr",
     "output_type": "stream",
     "text": [
      "HTTP Error for GET to https://api.spotify.com/v1/audio-analysis/1AbxRPvSQPSlNxoPJ89JE7 with Params: {} returned 404 due to analysis not found\n",
      "Max Retries reached\n",
      "Max Retries reached\n",
      "Max Retries reached\n",
      "HTTP Error for GET to https://api.spotify.com/v1/audio-analysis/2zroDn77wnGL0e6PXu7ZMj with Params: {} returned 404 due to analysis not found\n",
      "HTTP Error for GET to https://api.spotify.com/v1/audio-analysis/nan with Params: {} returned 400 due to invalid request\n",
      "Max Retries reached\n",
      "HTTP Error for GET to https://api.spotify.com/v1/audio-analysis/5FvcpP9xqu6wAw56f2ZUbE with Params: {} returned 404 due to analysis not found\n",
      "HTTP Error for GET to https://api.spotify.com/v1/audio-analysis/3tc9Kbro2cpggcOWTRTS5x with Params: {} returned 404 due to analysis not found\n"
     ]
    },
    {
     "name": "stdout",
     "output_type": "stream",
     "text": [
      "----on iteration: 17\n"
     ]
    },
    {
     "name": "stderr",
     "output_type": "stream",
     "text": [
      "HTTP Error for GET to https://api.spotify.com/v1/audio-analysis/1AbxRPvSQPSlNxoPJ89JE7 with Params: {} returned 404 due to analysis not found\n",
      "Max Retries reached\n",
      "Max Retries reached\n",
      "Max Retries reached\n",
      "HTTP Error for GET to https://api.spotify.com/v1/audio-analysis/2zroDn77wnGL0e6PXu7ZMj with Params: {} returned 404 due to analysis not found\n",
      "HTTP Error for GET to https://api.spotify.com/v1/audio-analysis/nan with Params: {} returned 400 due to invalid request\n",
      "Max Retries reached\n",
      "HTTP Error for GET to https://api.spotify.com/v1/audio-analysis/5FvcpP9xqu6wAw56f2ZUbE with Params: {} returned 404 due to analysis not found\n",
      "HTTP Error for GET to https://api.spotify.com/v1/audio-analysis/3tc9Kbro2cpggcOWTRTS5x with Params: {} returned 404 due to analysis not found\n"
     ]
    },
    {
     "name": "stdout",
     "output_type": "stream",
     "text": [
      "----on iteration: 18\n"
     ]
    },
    {
     "name": "stderr",
     "output_type": "stream",
     "text": [
      "HTTP Error for GET to https://api.spotify.com/v1/audio-analysis/1AbxRPvSQPSlNxoPJ89JE7 with Params: {} returned 404 due to analysis not found\n",
      "Max Retries reached\n",
      "Max Retries reached\n",
      "Max Retries reached\n",
      "HTTP Error for GET to https://api.spotify.com/v1/audio-analysis/2zroDn77wnGL0e6PXu7ZMj with Params: {} returned 404 due to analysis not found\n",
      "HTTP Error for GET to https://api.spotify.com/v1/audio-analysis/nan with Params: {} returned 400 due to invalid request\n",
      "Max Retries reached\n",
      "HTTP Error for GET to https://api.spotify.com/v1/audio-analysis/5FvcpP9xqu6wAw56f2ZUbE with Params: {} returned 404 due to analysis not found\n",
      "HTTP Error for GET to https://api.spotify.com/v1/audio-analysis/3tc9Kbro2cpggcOWTRTS5x with Params: {} returned 404 due to analysis not found\n"
     ]
    },
    {
     "name": "stdout",
     "output_type": "stream",
     "text": [
      "----on iteration: 19\n"
     ]
    },
    {
     "name": "stderr",
     "output_type": "stream",
     "text": [
      "HTTP Error for GET to https://api.spotify.com/v1/audio-analysis/1AbxRPvSQPSlNxoPJ89JE7 with Params: {} returned 404 due to analysis not found\n",
      "Max Retries reached\n",
      "Max Retries reached\n",
      "HTTP Error for GET to https://api.spotify.com/v1/audio-analysis/2zroDn77wnGL0e6PXu7ZMj with Params: {} returned 404 due to analysis not found\n",
      "HTTP Error for GET to https://api.spotify.com/v1/audio-analysis/nan with Params: {} returned 400 due to invalid request\n",
      "Max Retries reached\n",
      "HTTP Error for GET to https://api.spotify.com/v1/audio-analysis/5FvcpP9xqu6wAw56f2ZUbE with Params: {} returned 404 due to analysis not found\n",
      "HTTP Error for GET to https://api.spotify.com/v1/audio-analysis/3tc9Kbro2cpggcOWTRTS5x with Params: {} returned 404 due to analysis not found\n"
     ]
    },
    {
     "name": "stdout",
     "output_type": "stream",
     "text": [
      "----on iteration: 20\n"
     ]
    },
    {
     "name": "stderr",
     "output_type": "stream",
     "text": [
      "HTTP Error for GET to https://api.spotify.com/v1/audio-analysis/1AbxRPvSQPSlNxoPJ89JE7 with Params: {} returned 404 due to analysis not found\n",
      "Max Retries reached\n",
      "Max Retries reached\n",
      "Max Retries reached\n",
      "HTTP Error for GET to https://api.spotify.com/v1/audio-analysis/2zroDn77wnGL0e6PXu7ZMj with Params: {} returned 404 due to analysis not found\n",
      "HTTP Error for GET to https://api.spotify.com/v1/audio-analysis/nan with Params: {} returned 400 due to invalid request\n",
      "Max Retries reached\n",
      "HTTP Error for GET to https://api.spotify.com/v1/audio-analysis/5FvcpP9xqu6wAw56f2ZUbE with Params: {} returned 404 due to analysis not found\n",
      "HTTP Error for GET to https://api.spotify.com/v1/audio-analysis/3tc9Kbro2cpggcOWTRTS5x with Params: {} returned 404 due to analysis not found\n"
     ]
    },
    {
     "name": "stdout",
     "output_type": "stream",
     "text": [
      "Sleeping after epoch: 1\n"
     ]
    }
   ],
   "source": [
    "epochs = 1\n",
    "for i in range(1, epochs+1):\n",
    "    print('on epoch: {}'.format(i))\n",
    "\n",
    "    iterations = 20\n",
    "    count = 1\n",
    "    while count <= iterations:\n",
    "        print('----on iteration: {}'.format(count))\n",
    "        data.pull_track_analysis(100)\n",
    "        count += 1\n",
    "        if count // 5 == 0:\n",
    "            data.save('track_analysis')\n",
    "            time.sleep(5)\n",
    "\n",
    "    print('Sleeping after epoch: {}'.format(i))\n",
    "\n",
    "    time.sleep(60*5)"
   ]
  },
  {
   "cell_type": "code",
   "execution_count": 9,
   "metadata": {},
   "outputs": [
    {
     "data": {
      "text/plain": [
       "8193"
      ]
     },
     "execution_count": 9,
     "metadata": {},
     "output_type": "execute_result"
    }
   ],
   "source": [
    "data.frames['track_analysis'].shape[0]"
   ]
  },
  {
   "cell_type": "code",
   "execution_count": null,
   "metadata": {},
   "outputs": [],
   "source": []
  }
 ],
 "metadata": {
  "kernelspec": {
   "display_name": "base",
   "language": "python",
   "name": "python3"
  },
  "language_info": {
   "codemirror_mode": {
    "name": "ipython",
    "version": 3
   },
   "file_extension": ".py",
   "mimetype": "text/x-python",
   "name": "python",
   "nbconvert_exporter": "python",
   "pygments_lexer": "ipython3",
   "version": "3.9.13"
  },
  "orig_nbformat": 4,
  "vscode": {
   "interpreter": {
    "hash": "167cee73ec1a961f9ac1fcb8b2030bcc34926d11821ce746877c905156829734"
   }
  }
 },
 "nbformat": 4,
 "nbformat_minor": 2
}
