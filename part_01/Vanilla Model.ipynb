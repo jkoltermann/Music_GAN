{
 "cells": [
  {
   "cell_type": "code",
   "execution_count": 100,
   "metadata": {},
   "outputs": [],
   "source": [
    "import pandas as pd\n",
    "import numpy as np\n",
    "import spotipy\n",
    "from spotipy.oauth2 import SpotifyClientCredentials\n",
    "import time\n",
    "import os\n",
    "import ast\n",
    "\n",
    "from api_handling import api_handling\n",
    "# from Song_Consolidation import Song_Consolidation\n",
    "import tensorflow as tf\n",
    "from tensorflow.keras.models import Sequential\n",
    "from tensorflow.keras.layers import Conv2D, Dense, Flatten, Reshape, LeakyReLU, Dropout, UpSampling2D,MaxPooling2D,BatchNormalization\n",
    "from tensorflow.keras.preprocessing.sequence import pad_sequences\n",
    "from tensorflow.keras.optimizers import Adam\n",
    "from tensorflow.keras.losses import BinaryCrossentropy\n",
    "from tensorflow.keras.models import Model\n",
    "from tensorflow.keras.callbacks import Callback\n",
    "from scipy.spatial.distance import cdist\n",
    "\n",
    "import json\n",
    "import pickle\n",
    "import matplotlib.pyplot as plt\n",
    "import seaborn as sns"
   ]
  },
  {
   "cell_type": "code",
   "execution_count": 2,
   "metadata": {},
   "outputs": [
    {
     "name": "stdout",
     "output_type": "stream",
     "text": [
      "Num GPUs Available:  1\n"
     ]
    }
   ],
   "source": [
    "print(\"Num GPUs Available: \", len(tf.config.experimental.list_physical_devices('GPU')))"
   ]
  },
  {
   "cell_type": "code",
   "execution_count": 3,
   "metadata": {},
   "outputs": [],
   "source": [
    "gpus = tf.config.experimental.list_physical_devices('GPU')\n",
    "for gpu in gpus: \n",
    "    tf.config.experimental.set_memory_growth(gpu, True)"
   ]
  },
  {
   "cell_type": "code",
   "execution_count": 4,
   "metadata": {},
   "outputs": [],
   "source": [
    "with open('training_2.pickle', 'rb') as f:\n",
    "    training_data = pickle.load(f)\n",
    "training_data = training_data[1]"
   ]
  },
  {
   "cell_type": "code",
   "execution_count": 5,
   "metadata": {},
   "outputs": [],
   "source": [
    "def re_order_features(data):\n",
    "    for song in range(len(data)):\n",
    "        list_reordered = []\n",
    "        list_reordered.append(data[song][6])\n",
    "        for feature in range(len(data[song][0:6])):\n",
    "            list_reordered.append(data[song][feature])\n",
    "        list_reordered.append(data[song][7])\n",
    "        assert len(list_reordered) == 8, 'fix your code'\n",
    "        data[song] = list_reordered\n",
    "    return data"
   ]
  },
  {
   "cell_type": "code",
   "execution_count": 6,
   "metadata": {},
   "outputs": [],
   "source": [
    "training_data = re_order_features(training_data)"
   ]
  },
  {
   "cell_type": "code",
   "execution_count": 35,
   "metadata": {},
   "outputs": [],
   "source": [
    "with open('padded_training_data.pickle', 'wb') as f:\n",
    "    pickle.dump(training_data, f)"
   ]
  },
  {
   "attachments": {},
   "cell_type": "markdown",
   "metadata": {},
   "source": [
    "### New Index Reference \n",
    "- training_data[n] selects song at index n \n",
    "- Training_data[n][indicies below represent the following datapoints]\n",
    "- index 0: 'loudness / segments' loudness level\n",
    "- index 1: 'beats' start binary\n",
    "- index 2: 'beats' duration binary\n",
    "- index 3: 'tatums' start binary\n",
    "- index 4: 'tatums' duration binary\n",
    "- index 5: 'bars' start binary\n",
    "- index 6: 'bars' duration binary\n",
    "- index 7: 'sections' start binary"
   ]
  },
  {
   "attachments": {},
   "cell_type": "markdown",
   "metadata": {},
   "source": [
    "- This was necessary to simplify an activation function used in the final layer of my discriminator"
   ]
  },
  {
   "cell_type": "code",
   "execution_count": 7,
   "metadata": {},
   "outputs": [],
   "source": [
    "def pad_data(data, max_song_length):\n",
    "    output = data\n",
    "    for song_index in range(len(output)):\n",
    "        output[song_index] = pad_sequences(output[song_index], maxlen=max_song_length,truncating='post',padding='post')\n",
    "    return output"
   ]
  },
  {
   "cell_type": "code",
   "execution_count": 8,
   "metadata": {},
   "outputs": [
    {
     "data": {
      "text/plain": [
       "8"
      ]
     },
     "execution_count": 8,
     "metadata": {},
     "output_type": "execute_result"
    }
   ],
   "source": [
    "len(training_data[0])"
   ]
  },
  {
   "cell_type": "code",
   "execution_count": 9,
   "metadata": {},
   "outputs": [],
   "source": [
    "training_data = np.array(pad_data(training_data,3000))"
   ]
  },
  {
   "cell_type": "code",
   "execution_count": 10,
   "metadata": {},
   "outputs": [],
   "source": [
    "training_data = tf.reshape(training_data, (-1, 8, 3000, 1))"
   ]
  },
  {
   "cell_type": "code",
   "execution_count": 11,
   "metadata": {},
   "outputs": [],
   "source": [
    "def build_discriminator():\n",
    "    model = Sequential(name='Discriminator')\n",
    "    model.add(Conv2D(3, 3, input_shape = (8,3000,1)))\n",
    "    model.add(LeakyReLU(0.2))\n",
    "    model.add(Dropout(0.2))\n",
    "    \n",
    "    model.add(Conv2D(2, 2))\n",
    "    model.add(Dropout(0.2))\n",
    "    model.add(LeakyReLU(0.2))\n",
    "\n",
    "    model.add(MaxPooling2D(pool_size=(1, 15), strides=(1, 2), padding='same'))\n",
    "    model.add(LeakyReLU(0.2))\n",
    "    \n",
    "    model.add(Dense(128)) \n",
    "    model.add(LeakyReLU(0.2))\n",
    "\n",
    "    model.add(Dense(64)) \n",
    "    model.add(LeakyReLU(0.2))\n",
    "    model.add(Dropout(0.2))\n",
    "\n",
    "    model.add(Dense(128)) \n",
    "    model.add(LeakyReLU(0.2))\n",
    "    model.add(Dropout(0.2))\n",
    "\n",
    "    model.add(Flatten())\n",
    "    # model.add(Dropout(0.4))\n",
    "    model.add(Dense(1, activation='sigmoid'))\n",
    "    return model"
   ]
  },
  {
   "cell_type": "code",
   "execution_count": 12,
   "metadata": {},
   "outputs": [
    {
     "name": "stdout",
     "output_type": "stream",
     "text": [
      "Model: \"Discriminator\"\n",
      "_________________________________________________________________\n",
      " Layer (type)                Output Shape              Param #   \n",
      "=================================================================\n",
      " conv2d (Conv2D)             (None, 6, 2998, 3)        30        \n",
      "                                                                 \n",
      " leaky_re_lu (LeakyReLU)     (None, 6, 2998, 3)        0         \n",
      "                                                                 \n",
      " dropout (Dropout)           (None, 6, 2998, 3)        0         \n",
      "                                                                 \n",
      " conv2d_1 (Conv2D)           (None, 5, 2997, 2)        26        \n",
      "                                                                 \n",
      " dropout_1 (Dropout)         (None, 5, 2997, 2)        0         \n",
      "                                                                 \n",
      " leaky_re_lu_1 (LeakyReLU)   (None, 5, 2997, 2)        0         \n",
      "                                                                 \n",
      " max_pooling2d (MaxPooling2D  (None, 5, 1499, 2)       0         \n",
      " )                                                               \n",
      "                                                                 \n",
      " leaky_re_lu_2 (LeakyReLU)   (None, 5, 1499, 2)        0         \n",
      "                                                                 \n",
      " dense (Dense)               (None, 5, 1499, 128)      384       \n",
      "                                                                 \n",
      " leaky_re_lu_3 (LeakyReLU)   (None, 5, 1499, 128)      0         \n",
      "                                                                 \n",
      " dense_1 (Dense)             (None, 5, 1499, 64)       8256      \n",
      "                                                                 \n",
      " leaky_re_lu_4 (LeakyReLU)   (None, 5, 1499, 64)       0         \n",
      "                                                                 \n",
      " dropout_2 (Dropout)         (None, 5, 1499, 64)       0         \n",
      "                                                                 \n",
      " dense_2 (Dense)             (None, 5, 1499, 128)      8320      \n",
      "                                                                 \n",
      " leaky_re_lu_5 (LeakyReLU)   (None, 5, 1499, 128)      0         \n",
      "                                                                 \n",
      " dropout_3 (Dropout)         (None, 5, 1499, 128)      0         \n",
      "                                                                 \n",
      " flatten (Flatten)           (None, 959360)            0         \n",
      "                                                                 \n",
      " dense_3 (Dense)             (None, 1)                 959361    \n",
      "                                                                 \n",
      "=================================================================\n",
      "Total params: 976,377\n",
      "Trainable params: 976,377\n",
      "Non-trainable params: 0\n",
      "_________________________________________________________________\n"
     ]
    }
   ],
   "source": [
    "discriminator = build_discriminator()\n",
    "discriminator.summary()"
   ]
  },
  {
   "cell_type": "code",
   "execution_count": 13,
   "metadata": {},
   "outputs": [],
   "source": [
    "def threshold_and_binarize_func(x):\n",
    "    # Split the input tensor into the first slice and the remaining slices\n",
    "    first_slice = x[:, 0, :, :]\n",
    "    remaining_slices = x[:, 1:, :, :]\n",
    "    # Threshold the first slice\n",
    "    thresholded_first_slice = tf.where(first_slice < 0.0, first_slice, 0.0)\n",
    "    # Binarize the remaining slices\n",
    "    binarized_remaining_slices = tf.where(remaining_slices < 0.5, 0.0, 1.0)\n",
    "    # Reshape thresholded_first_slice from (None, 3000, 1) to (None, 1, 3000, 1)\n",
    "    thresholded_first_slice = tf.reshape(thresholded_first_slice, (-1, 1, 3000, 1))\n",
    "    # Concatenate the thresholded first slice with the binarized remaining slices\n",
    "    return tf.concat([thresholded_first_slice, binarized_remaining_slices], axis=1)"
   ]
  },
  {
   "cell_type": "code",
   "execution_count": 14,
   "metadata": {},
   "outputs": [],
   "source": [
    "def build_generator_2():\n",
    "    model = Sequential(name='Generator')\n",
    "\n",
    "    model.add(Dense(800, input_dim=800,name='Dense_1'))  \n",
    "    model.add(Reshape([8,100,1]))\n",
    "\n",
    "    model.add(Dense(100, name='Dense_2'))\n",
    "\n",
    "    model.add(Dense(150, name='Dense_3'))\n",
    "    model.add(Reshape([8,3000,5]))\n",
    "\n",
    "    model.add(Dense(100, name='Dense_5'))    \n",
    "    model.add(LeakyReLU(0.2))\n",
    "\n",
    "    model.add(Dense(150, name='Dense_6'))    \n",
    "    model.add(LeakyReLU(0.2))\n",
    "\n",
    "    model.add(Dense(200, name='Dense_7'))    \n",
    "    model.add(LeakyReLU(0.2))\n",
    "\n",
    "    model.add(Conv2D(1, (1, 1), activation=threshold_and_binarize_func, name='final_layer'))\n",
    "\n",
    "    return model"
   ]
  },
  {
   "cell_type": "code",
   "execution_count": 15,
   "metadata": {},
   "outputs": [],
   "source": [
    "def build_generator_3():\n",
    "    model = Sequential(name='Generator')\n",
    "\n",
    "    model.add(Dense(3200, input_dim=800, name='Dense_1'))  \n",
    "    model.add(Reshape([8,400,1]))\n",
    "\n",
    "    model.add(Conv2D(64, (3, 3), padding='same', name='Conv2D_1'))\n",
    "    model.add(LeakyReLU(0.2))\n",
    "    model.add(BatchNormalization())\n",
    "\n",
    "    model.add(Conv2D(128, (3, 3), padding='same', name='Conv2D_2'))\n",
    "    model.add(LeakyReLU(0.2))\n",
    "    model.add(BatchNormalization())\n",
    "\n",
    "    model.add(Conv2D(256, (3, 3), padding='same', name='Conv2D_3'))\n",
    "    model.add(LeakyReLU(0.2))\n",
    "    model.add(BatchNormalization())\n",
    "\n",
    "    model.add(Conv2D(512, (3, 3), padding='same', name='Conv2D_4'))\n",
    "    model.add(LeakyReLU(0.2))\n",
    "    model.add(BatchNormalization())\n",
    "\n",
    "    model.add(Conv2D(1, (1, 1), activation=threshold_and_binarize_func, name='final_layer'))\n",
    "\n",
    "    return model\n"
   ]
  },
  {
   "cell_type": "code",
   "execution_count": 16,
   "metadata": {},
   "outputs": [],
   "source": [
    "def build_generator_4():\n",
    "    model = Sequential(name='Generator')\n",
    "\n",
    "    model.add(Dense(1600, input_dim=800,name='Dense_1'))  \n",
    "    model.add(Reshape([8,100,2]))\n",
    "\n",
    "    model.add(Dense(100, name='Dense_2'))\n",
    "\n",
    "    model.add(Dense(150, name='Dense_3'))\n",
    "    model.add(Reshape([8,3000,5]))\n",
    "\n",
    "    model.add(Dense(100, name='Dense_5'))    \n",
    "    model.add(LeakyReLU(0.2))\n",
    "\n",
    "    model.add(Dense(150, name='Dense_6'))    \n",
    "    model.add(LeakyReLU(0.2))\n",
    "\n",
    "    model.add(Dense(200, name='Dense_7'))    \n",
    "    model.add(LeakyReLU(0.2))\n",
    "\n",
    "    model.add(Conv2D(1, (1, 1), activation=threshold_and_binarize_func, name='final_layer'))\n",
    "\n",
    "    return model"
   ]
  },
  {
   "cell_type": "code",
   "execution_count": 17,
   "metadata": {},
   "outputs": [
    {
     "name": "stdout",
     "output_type": "stream",
     "text": [
      "Model: \"Generator\"\n",
      "_________________________________________________________________\n",
      " Layer (type)                Output Shape              Param #   \n",
      "=================================================================\n",
      " Dense_1 (Dense)             (None, 1600)              1281600   \n",
      "                                                                 \n",
      " reshape (Reshape)           (None, 8, 100, 2)         0         \n",
      "                                                                 \n",
      " Dense_2 (Dense)             (None, 8, 100, 100)       300       \n",
      "                                                                 \n",
      " Dense_3 (Dense)             (None, 8, 100, 150)       15150     \n",
      "                                                                 \n",
      " reshape_1 (Reshape)         (None, 8, 3000, 5)        0         \n",
      "                                                                 \n",
      " Dense_5 (Dense)             (None, 8, 3000, 100)      600       \n",
      "                                                                 \n",
      " leaky_re_lu_6 (LeakyReLU)   (None, 8, 3000, 100)      0         \n",
      "                                                                 \n",
      " Dense_6 (Dense)             (None, 8, 3000, 150)      15150     \n",
      "                                                                 \n",
      " leaky_re_lu_7 (LeakyReLU)   (None, 8, 3000, 150)      0         \n",
      "                                                                 \n",
      " Dense_7 (Dense)             (None, 8, 3000, 200)      30200     \n",
      "                                                                 \n",
      " leaky_re_lu_8 (LeakyReLU)   (None, 8, 3000, 200)      0         \n",
      "                                                                 \n",
      " final_layer (Conv2D)        (None, 8, 3000, 1)        201       \n",
      "                                                                 \n",
      "=================================================================\n",
      "Total params: 1,343,201\n",
      "Trainable params: 1,343,201\n",
      "Non-trainable params: 0\n",
      "_________________________________________________________________\n"
     ]
    }
   ],
   "source": [
    "generator = build_generator_4()\n",
    "generator.summary()"
   ]
  },
  {
   "cell_type": "code",
   "execution_count": 18,
   "metadata": {},
   "outputs": [],
   "source": [
    "class GAN(Model):\n",
    "    def __init__(self, generator, discriminator,*args,**kwargs):\n",
    "        super().__init__(*args,**kwargs)\n",
    "        self.generator = generator\n",
    "        self.discriminator = discriminator\n",
    "\n",
    "    def compile(self, generator_optimizer, discriminator_optimizer, generator_loss, discriminator_loss, *args,**kwargs):\n",
    "        super().compile(*args, **kwargs)\n",
    "\n",
    "        self.generator_optimizer = generator_optimizer\n",
    "        self.discriminator_optimizer = discriminator_optimizer\n",
    "        self.generator_loss = generator_loss\n",
    "        self.discriminator_loss = discriminator_loss \n",
    "\n",
    "    def train_step(self, truth_batch):\n",
    "        fake_songs = self.generator(tf.random.normal((40, 800, 1)), training=False)\n",
    "\n",
    "                # Train the discriminator\n",
    "        with tf.GradientTape() as d_tape: \n",
    "            # Pass the real and fake songs to the discriminator model\n",
    "            yhat_real = self.discriminator(truth_batch, training=True) \n",
    "            yhat_fake = self.discriminator(fake_songs, training=True)\n",
    "            yhat_realfake = tf.concat([yhat_real, yhat_fake], axis=0)\n",
    "            \n",
    "            # Create labels for real and fake songs\n",
    "            y_realfake = tf.concat([tf.zeros_like(yhat_real), tf.ones_like(yhat_fake)], axis=0)\n",
    "            \n",
    "            # Add some noise to the TRUE outputs\n",
    "            noise_real = 0.15 * tf.random.uniform(tf.shape(yhat_real))\n",
    "            noise_fake = -0.15 * tf.random.uniform(tf.shape(yhat_fake))\n",
    "            y_realfake += tf.concat([noise_real, noise_fake], axis=0)\n",
    "            \n",
    "            # Calculate loss - BCE \n",
    "            total_disc_loss = self.discriminator_loss(y_realfake, yhat_realfake)\n",
    "\n",
    "\n",
    "        dgrad = d_tape.gradient(total_disc_loss, self.discriminator.trainable_variables) \n",
    "        self.discriminator_optimizer.apply_gradients(zip(dgrad, self.discriminator.trainable_variables))\n",
    "\n",
    "\n",
    "                # Train the generator \n",
    "        with tf.GradientTape() as g_tape: \n",
    "            gen_songs = self.generator(tf.random.normal((40,800,1)), training=True)\n",
    "                                        \n",
    "            # Create the predicted labels\n",
    "            predicted_labels = self.discriminator(gen_songs, training=False)\n",
    "                                        \n",
    "            # Calculate loss - trick to training to fake out the discriminator\n",
    "            total_gen_loss = self.generator_loss(tf.zeros_like(predicted_labels), predicted_labels) \n",
    "\n",
    "\n",
    "                    # Apply backprop\n",
    "        ggrad = g_tape.gradient(total_gen_loss, self.generator.trainable_variables)\n",
    "        self.generator_optimizer.apply_gradients(zip(ggrad, self.generator.trainable_variables))\n",
    "        \n",
    "        return {\"discriminator_loss\":total_disc_loss, \"generator_loss\":total_gen_loss}"
   ]
  },
  {
   "cell_type": "code",
   "execution_count": 19,
   "metadata": {},
   "outputs": [],
   "source": [
    "class ModelMonitor(Callback):\n",
    "    def __init__(self, num_songs=3, latent_dim=800):\n",
    "        self.num_songs = num_songs\n",
    "        self.latent_dim = latent_dim\n",
    "\n",
    "    def on_epoch_end(self, epoch, logs=None):\n",
    "        random_latent_vectors = tf.random.uniform((self.num_songs, self.latent_dim,1))\n",
    "        generated_songs = self.model.generator(random_latent_vectors)\n",
    "        data = generated_songs.numpy().tolist()\n",
    "        with open(os.path.join('../Data/Song_Outputs', f'generated_songs_{epoch}.json'), \"w\") as file:\n",
    "            json.dump(data, file)\n"
   ]
  },
  {
   "cell_type": "code",
   "execution_count": 21,
   "metadata": {},
   "outputs": [],
   "source": [
    "g_opt = Adam(learning_rate=0.0001) \n",
    "d_opt = Adam(learning_rate=0.00001) \n",
    "g_loss = BinaryCrossentropy()\n",
    "d_loss = BinaryCrossentropy()\n",
    "song_gan = GAN(generator, discriminator)\n",
    "song_gan.compile(g_opt,d_opt,g_loss,d_loss)"
   ]
  },
  {
   "cell_type": "code",
   "execution_count": 22,
   "metadata": {},
   "outputs": [
    {
     "name": "stdout",
     "output_type": "stream",
     "text": [
      "Epoch 1/100\n",
      "173/173 [==============================] - 62s 332ms/step - discriminator_loss: 0.4214 - generator_loss: 1.0238\n",
      "Epoch 2/100\n",
      "173/173 [==============================] - 57s 332ms/step - discriminator_loss: 0.3439 - generator_loss: 1.3907\n",
      "Epoch 3/100\n",
      "173/173 [==============================] - 57s 331ms/step - discriminator_loss: 0.2983 - generator_loss: 1.7199\n",
      "Epoch 4/100\n",
      "173/173 [==============================] - 57s 331ms/step - discriminator_loss: 0.3090 - generator_loss: 1.6896\n",
      "Epoch 5/100\n",
      "173/173 [==============================] - 57s 332ms/step - discriminator_loss: 0.2995 - generator_loss: 1.6118\n",
      "Epoch 6/100\n",
      "173/173 [==============================] - 57s 332ms/step - discriminator_loss: 0.2942 - generator_loss: 1.5073\n",
      "Epoch 7/100\n",
      "173/173 [==============================] - 57s 332ms/step - discriminator_loss: 0.2845 - generator_loss: 1.4652\n",
      "Epoch 8/100\n",
      "173/173 [==============================] - 58s 332ms/step - discriminator_loss: 0.2784 - generator_loss: 1.4234\n",
      "Epoch 9/100\n",
      "173/173 [==============================] - 58s 337ms/step - discriminator_loss: 0.2754 - generator_loss: 1.3786\n",
      "Epoch 10/100\n",
      "173/173 [==============================] - 57s 332ms/step - discriminator_loss: 0.2757 - generator_loss: 1.3614\n",
      "Epoch 11/100\n",
      "173/173 [==============================] - 57s 328ms/step - discriminator_loss: 0.2731 - generator_loss: 1.3486\n",
      "Epoch 12/100\n",
      "173/173 [==============================] - 57s 332ms/step - discriminator_loss: 0.2730 - generator_loss: 1.3175\n",
      "Epoch 13/100\n",
      "173/173 [==============================] - 57s 330ms/step - discriminator_loss: 0.2722 - generator_loss: 1.2986\n",
      "Epoch 14/100\n",
      "173/173 [==============================] - 56s 326ms/step - discriminator_loss: 0.2706 - generator_loss: 1.2765\n",
      "Epoch 15/100\n",
      "173/173 [==============================] - 57s 331ms/step - discriminator_loss: 0.2677 - generator_loss: 1.2753\n",
      "Epoch 16/100\n",
      "173/173 [==============================] - 57s 331ms/step - discriminator_loss: 0.2695 - generator_loss: 1.2772\n",
      "Epoch 17/100\n",
      "173/173 [==============================] - 58s 333ms/step - discriminator_loss: 0.2664 - generator_loss: 1.2507\n",
      "Epoch 18/100\n",
      "173/173 [==============================] - 57s 331ms/step - discriminator_loss: 0.2678 - generator_loss: 1.0862\n",
      "Epoch 19/100\n",
      "173/173 [==============================] - 57s 331ms/step - discriminator_loss: 0.2675 - generator_loss: 1.0662\n",
      "Epoch 20/100\n",
      "173/173 [==============================] - 57s 332ms/step - discriminator_loss: 0.2669 - generator_loss: 1.1302\n",
      "Epoch 21/100\n",
      "173/173 [==============================] - 57s 332ms/step - discriminator_loss: 0.2696 - generator_loss: 1.2330\n",
      "Epoch 22/100\n",
      "173/173 [==============================] - 58s 332ms/step - discriminator_loss: 0.2714 - generator_loss: 1.2027\n",
      "Epoch 23/100\n",
      "173/173 [==============================] - 57s 332ms/step - discriminator_loss: 0.2703 - generator_loss: 1.1947\n",
      "Epoch 24/100\n",
      "173/173 [==============================] - 57s 332ms/step - discriminator_loss: 0.2703 - generator_loss: 1.2251\n",
      "Epoch 25/100\n",
      "173/173 [==============================] - 58s 333ms/step - discriminator_loss: 0.2682 - generator_loss: 1.2299\n",
      "Epoch 26/100\n",
      "173/173 [==============================] - 58s 333ms/step - discriminator_loss: 0.2685 - generator_loss: 1.1653\n",
      "Epoch 27/100\n",
      "173/173 [==============================] - 58s 334ms/step - discriminator_loss: 0.2691 - generator_loss: 1.2087\n",
      "Epoch 28/100\n",
      "173/173 [==============================] - 57s 331ms/step - discriminator_loss: 0.2686 - generator_loss: 1.2411\n",
      "Epoch 29/100\n",
      "173/173 [==============================] - 57s 331ms/step - discriminator_loss: 0.2685 - generator_loss: 1.1265\n",
      "Epoch 30/100\n",
      "173/173 [==============================] - 57s 329ms/step - discriminator_loss: 0.2679 - generator_loss: 1.0002\n",
      "Epoch 31/100\n",
      "173/173 [==============================] - 57s 328ms/step - discriminator_loss: 0.2700 - generator_loss: 0.9312\n",
      "Epoch 32/100\n",
      "173/173 [==============================] - 56s 326ms/step - discriminator_loss: 0.2669 - generator_loss: 0.9404\n",
      "Epoch 33/100\n",
      "173/173 [==============================] - 57s 331ms/step - discriminator_loss: 0.2675 - generator_loss: 0.9729\n",
      "Epoch 34/100\n",
      "173/173 [==============================] - 57s 328ms/step - discriminator_loss: 0.2662 - generator_loss: 1.0748\n",
      "Epoch 35/100\n",
      "173/173 [==============================] - 56s 326ms/step - discriminator_loss: 0.2695 - generator_loss: 1.1971\n",
      "Epoch 36/100\n",
      "173/173 [==============================] - 57s 328ms/step - discriminator_loss: 0.2683 - generator_loss: 1.1995\n",
      "Epoch 37/100\n",
      "173/173 [==============================] - 57s 328ms/step - discriminator_loss: 0.2691 - generator_loss: 1.1764\n",
      "Epoch 38/100\n",
      "173/173 [==============================] - 57s 327ms/step - discriminator_loss: 0.2692 - generator_loss: 1.1619\n",
      "Epoch 39/100\n",
      "173/173 [==============================] - 57s 330ms/step - discriminator_loss: 0.2656 - generator_loss: 1.0310\n",
      "Epoch 40/100\n",
      "173/173 [==============================] - 57s 332ms/step - discriminator_loss: 0.2671 - generator_loss: 0.9188\n",
      "Epoch 41/100\n",
      "173/173 [==============================] - 58s 332ms/step - discriminator_loss: 0.2687 - generator_loss: 0.8795\n",
      "Epoch 42/100\n",
      "173/173 [==============================] - 57s 332ms/step - discriminator_loss: 0.2659 - generator_loss: 0.8520\n",
      "Epoch 43/100\n",
      "173/173 [==============================] - 57s 331ms/step - discriminator_loss: 0.2685 - generator_loss: 0.7743\n",
      "Epoch 44/100\n",
      "173/173 [==============================] - 58s 333ms/step - discriminator_loss: 0.2679 - generator_loss: 0.7601\n",
      "Epoch 45/100\n",
      "173/173 [==============================] - 58s 332ms/step - discriminator_loss: 0.2645 - generator_loss: 0.7608\n",
      "Epoch 46/100\n",
      "173/173 [==============================] - 57s 332ms/step - discriminator_loss: 0.2662 - generator_loss: 0.8172\n",
      "Epoch 47/100\n",
      "173/173 [==============================] - 57s 332ms/step - discriminator_loss: 0.2685 - generator_loss: 1.0793\n",
      "Epoch 48/100\n",
      "173/173 [==============================] - 58s 334ms/step - discriminator_loss: 0.2670 - generator_loss: 0.7209\n",
      "Epoch 49/100\n",
      "173/173 [==============================] - 58s 333ms/step - discriminator_loss: 0.2673 - generator_loss: 0.4985\n",
      "Epoch 50/100\n",
      "173/173 [==============================] - 58s 333ms/step - discriminator_loss: 0.2678 - generator_loss: 0.4155\n",
      "Epoch 51/100\n",
      "173/173 [==============================] - 56s 326ms/step - discriminator_loss: 0.2673 - generator_loss: 0.4009\n",
      "Epoch 52/100\n",
      "173/173 [==============================] - 57s 331ms/step - discriminator_loss: 0.2659 - generator_loss: 0.3928\n",
      "Epoch 53/100\n",
      "173/173 [==============================] - 57s 332ms/step - discriminator_loss: 0.2686 - generator_loss: 0.3922\n",
      "Epoch 54/100\n",
      "173/173 [==============================] - 57s 331ms/step - discriminator_loss: 0.2683 - generator_loss: 0.4178\n",
      "Epoch 55/100\n",
      "173/173 [==============================] - 57s 331ms/step - discriminator_loss: 0.2680 - generator_loss: 0.4786\n",
      "Epoch 56/100\n",
      "173/173 [==============================] - 58s 333ms/step - discriminator_loss: 0.2681 - generator_loss: 0.5934\n",
      "Epoch 57/100\n",
      "173/173 [==============================] - 58s 333ms/step - discriminator_loss: 0.2680 - generator_loss: 0.8047\n",
      "Epoch 58/100\n",
      "173/173 [==============================] - 57s 332ms/step - discriminator_loss: 0.2705 - generator_loss: 0.8977\n",
      "Epoch 59/100\n",
      "173/173 [==============================] - 57s 332ms/step - discriminator_loss: 0.2674 - generator_loss: 0.6109\n",
      "Epoch 60/100\n",
      "173/173 [==============================] - 57s 332ms/step - discriminator_loss: 0.2679 - generator_loss: 0.4882\n",
      "Epoch 61/100\n",
      "173/173 [==============================] - 58s 333ms/step - discriminator_loss: 0.2665 - generator_loss: 0.5903\n",
      "Epoch 62/100\n",
      "173/173 [==============================] - 57s 332ms/step - discriminator_loss: 0.2673 - generator_loss: 0.8168\n",
      "Epoch 63/100\n",
      "173/173 [==============================] - 57s 332ms/step - discriminator_loss: 0.2670 - generator_loss: 0.4336\n",
      "Epoch 64/100\n",
      "173/173 [==============================] - 58s 332ms/step - discriminator_loss: 0.2677 - generator_loss: 0.3234\n",
      "Epoch 65/100\n",
      "173/173 [==============================] - 57s 332ms/step - discriminator_loss: 0.2684 - generator_loss: 0.3170\n",
      "Epoch 66/100\n",
      "173/173 [==============================] - 58s 333ms/step - discriminator_loss: 0.2678 - generator_loss: 0.3061\n",
      "Epoch 67/100\n",
      "173/173 [==============================] - 57s 331ms/step - discriminator_loss: 0.2666 - generator_loss: 0.3072\n",
      "Epoch 68/100\n",
      "173/173 [==============================] - 57s 329ms/step - discriminator_loss: 0.2678 - generator_loss: 0.3089\n",
      "Epoch 69/100\n",
      "173/173 [==============================] - 57s 331ms/step - discriminator_loss: 0.2678 - generator_loss: 0.3057\n",
      "Epoch 70/100\n",
      "173/173 [==============================] - 57s 332ms/step - discriminator_loss: 0.2665 - generator_loss: 0.3041\n",
      "Epoch 71/100\n",
      "173/173 [==============================] - 57s 332ms/step - discriminator_loss: 0.2669 - generator_loss: 0.2948\n",
      "Epoch 72/100\n",
      "173/173 [==============================] - 57s 332ms/step - discriminator_loss: 0.2671 - generator_loss: 0.2997\n",
      "Epoch 73/100\n",
      "173/173 [==============================] - 57s 331ms/step - discriminator_loss: 0.2683 - generator_loss: 0.3005\n",
      "Epoch 74/100\n",
      "173/173 [==============================] - 57s 331ms/step - discriminator_loss: 0.2662 - generator_loss: 0.3125\n",
      "Epoch 75/100\n",
      "173/173 [==============================] - 57s 327ms/step - discriminator_loss: 0.2678 - generator_loss: 0.3281\n",
      "Epoch 76/100\n",
      "173/173 [==============================] - 57s 331ms/step - discriminator_loss: 0.2697 - generator_loss: 0.3890\n",
      "Epoch 77/100\n",
      "173/173 [==============================] - 57s 329ms/step - discriminator_loss: 0.2679 - generator_loss: 1.1605\n",
      "Epoch 78/100\n",
      "173/173 [==============================] - 57s 330ms/step - discriminator_loss: 0.2670 - generator_loss: 0.9428\n",
      "Epoch 79/100\n",
      "173/173 [==============================] - 57s 330ms/step - discriminator_loss: 0.2673 - generator_loss: 0.2741\n",
      "Epoch 80/100\n",
      "173/173 [==============================] - 57s 331ms/step - discriminator_loss: 0.2672 - generator_loss: 0.2460\n",
      "Epoch 81/100\n",
      "173/173 [==============================] - 57s 331ms/step - discriminator_loss: 0.2660 - generator_loss: 0.2485\n",
      "Epoch 82/100\n",
      "173/173 [==============================] - 57s 331ms/step - discriminator_loss: 0.2665 - generator_loss: 0.2510\n",
      "Epoch 83/100\n",
      "173/173 [==============================] - 57s 330ms/step - discriminator_loss: 0.2661 - generator_loss: 0.2426\n",
      "Epoch 84/100\n",
      "173/173 [==============================] - 57s 331ms/step - discriminator_loss: 0.2667 - generator_loss: 0.2454\n",
      "Epoch 85/100\n",
      "173/173 [==============================] - 57s 331ms/step - discriminator_loss: 0.2657 - generator_loss: 0.2416\n",
      "Epoch 86/100\n",
      "173/173 [==============================] - 56s 326ms/step - discriminator_loss: 0.2667 - generator_loss: 0.2454\n",
      "Epoch 87/100\n",
      "173/173 [==============================] - 57s 331ms/step - discriminator_loss: 0.2660 - generator_loss: 0.2413\n",
      "Epoch 88/100\n",
      "173/173 [==============================] - 57s 327ms/step - discriminator_loss: 0.2686 - generator_loss: 0.2396\n",
      "Epoch 89/100\n",
      "173/173 [==============================] - 57s 330ms/step - discriminator_loss: 0.2648 - generator_loss: 0.2374\n",
      "Epoch 90/100\n",
      "173/173 [==============================] - 56s 327ms/step - discriminator_loss: 0.2666 - generator_loss: 0.2343\n",
      "Epoch 91/100\n",
      "173/173 [==============================] - 57s 331ms/step - discriminator_loss: 0.2669 - generator_loss: 0.2304\n",
      "Epoch 92/100\n",
      "173/173 [==============================] - 71s 413ms/step - discriminator_loss: 0.2664 - generator_loss: 0.2340\n",
      "Epoch 93/100\n",
      "173/173 [==============================] - 63s 365ms/step - discriminator_loss: 0.2675 - generator_loss: 0.2397\n",
      "Epoch 94/100\n",
      "173/173 [==============================] - 63s 362ms/step - discriminator_loss: 0.2662 - generator_loss: 0.3743\n",
      "Epoch 95/100\n",
      "173/173 [==============================] - 63s 364ms/step - discriminator_loss: 0.2663 - generator_loss: 0.8309\n",
      "Epoch 96/100\n",
      "173/173 [==============================] - 63s 364ms/step - discriminator_loss: 0.2692 - generator_loss: 1.4456\n",
      "Epoch 97/100\n",
      "173/173 [==============================] - 63s 363ms/step - discriminator_loss: 0.2679 - generator_loss: 0.6800\n",
      "Epoch 98/100\n",
      "173/173 [==============================] - 63s 366ms/step - discriminator_loss: 0.2665 - generator_loss: 0.2298\n",
      "Epoch 99/100\n",
      "173/173 [==============================] - 63s 365ms/step - discriminator_loss: 0.2666 - generator_loss: 0.1961\n",
      "Epoch 100/100\n",
      "173/173 [==============================] - 63s 365ms/step - discriminator_loss: 0.2668 - generator_loss: 0.1977\n"
     ]
    },
    {
     "data": {
      "text/plain": [
       "<keras.callbacks.History at 0x1e7fd363ac0>"
      ]
     },
     "execution_count": 22,
     "metadata": {},
     "output_type": "execute_result"
    }
   ],
   "source": [
    "song_gan.fit(training_data, epochs=100, callbacks=[ModelMonitor()],batch_size=40,verbose=1)"
   ]
  },
  {
   "cell_type": "code",
   "execution_count": 23,
   "metadata": {},
   "outputs": [
    {
     "name": "stdout",
     "output_type": "stream",
     "text": [
      "WARNING:tensorflow:Compiled the loaded model, but the compiled metrics have yet to be built. `model.compile_metrics` will be empty until you train or evaluate the model.\n",
      "WARNING:tensorflow:Compiled the loaded model, but the compiled metrics have yet to be built. `model.compile_metrics` will be empty until you train or evaluate the model.\n"
     ]
    }
   ],
   "source": [
    "generator.save('./Models/generator.h5')\n",
    "discriminator.save('./Models/discriminator.h5')"
   ]
  },
  {
   "cell_type": "code",
   "execution_count": 27,
   "metadata": {},
   "outputs": [],
   "source": [
    "song_gan.save_weights('../Models/song_gan_weights.h5')"
   ]
  },
  {
   "cell_type": "code",
   "execution_count": 55,
   "metadata": {},
   "outputs": [
    {
     "data": {
      "image/png": "[encoded data removed]",
      "text/plain": [
       "<Figure size 1200x800 with 1 Axes>"
      ]
     },
     "metadata": {},
     "output_type": "display_data"
    }
   ],
   "source": [
    "plt.figure(figsize=(12, 8))\n",
    "plt.plot(song_gan.history.history['discriminator_loss'], label='Discriminator_Loss')\n",
    "plt.plot(song_gan.history.history['generator_loss'], label='Generator_Loss')\n",
    "plt.title('GAN Training Performance')\n",
    "\n",
    "plt.xlabel('epochs')\n",
    "plt.ylabel('Loss')\n",
    "plt.legend()\n",
    "plt.show()"
   ]
  },
  {
   "cell_type": "code",
   "execution_count": 95,
   "metadata": {},
   "outputs": [],
   "source": [
    "def eval_similarity(tries):\n",
    "    sum = np.zeros(8)\n",
    "    count = 0.0\n",
    "\n",
    "    for i in range(tries):\n",
    "        generated_examples = np.array([song_gan.generator.predict(tf.random.normal((50, 800, 1)),verbose=False)]).squeeze()\n",
    "        training_examples = np.array([training_data[np.random.randint(low=0,high=6000)] for x in range(50)]).squeeze()\n",
    "        generator_stats = np.zeros(8)\n",
    "        training_data_stats = np.zeros(8)\n",
    "        for feature in range(8):\n",
    "            generator_stats[feature] = generated_examples[:, feature].mean()\n",
    "            training_data_stats[feature] = training_examples[:, feature].mean()\n",
    "        sum += np.square(generator_stats - training_data_stats)\n",
    "        count += 1.0\n",
    "\n",
    "    return np.sqrt(sum / count)\n"
   ]
  },
  {
   "cell_type": "code",
   "execution_count": 102,
   "metadata": {},
   "outputs": [],
   "source": [
    "bar = eval_similarity(50)"
   ]
  },
  {
   "cell_type": "code",
   "execution_count": 104,
   "metadata": {},
   "outputs": [
    {
     "data": {
      "text/plain": [
       "array([34.86244558,  0.82745677,  0.18481145,  0.65507138,  0.1847641 ,\n",
       "        0.95617893,  0.18868791,  0.99666201])"
      ]
     },
     "execution_count": 104,
     "metadata": {},
     "output_type": "execute_result"
    }
   ],
   "source": [
    "bar"
   ]
  },
  {
   "cell_type": "code",
   "execution_count": 103,
   "metadata": {},
   "outputs": [
    {
     "data": {
      "text/plain": [
       "<AxesSubplot: >"
      ]
     },
     "execution_count": 103,
     "metadata": {},
     "output_type": "execute_result"
    },
    {
     "data": {
      "image/png": "[encoded data removed]",
      "text/plain": [
       "<Figure size 640x480 with 1 Axes>"
      ]
     },
     "metadata": {},
     "output_type": "display_data"
    }
   ],
   "source": [
    "sns.barplot(bar)"
   ]
  },
  {
   "cell_type": "code",
   "execution_count": null,
   "metadata": {},
   "outputs": [],
   "source": []
  }
 ],
 "metadata": {
  "kernelspec": {
   "display_name": "base",
   "language": "python",
   "name": "python3"
  },
  "language_info": {
   "codemirror_mode": {
    "name": "ipython",
    "version": 3
   },
   "file_extension": ".py",
   "mimetype": "text/x-python",
   "name": "python",
   "nbconvert_exporter": "python",
   "pygments_lexer": "ipython3",
   "version": "3.9.13"
  },
  "orig_nbformat": 4,
  "vscode": {
   "interpreter": {
    "hash": "167cee73ec1a961f9ac1fcb8b2030bcc34926d11821ce746877c905156829734"
   }
  }
 },
 "nbformat": 4,
 "nbformat_minor": 2
}
