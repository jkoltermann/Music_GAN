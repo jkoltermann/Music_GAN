{
 "cells": [
  {
   "cell_type": "code",
   "execution_count": 20,
   "metadata": {},
   "outputs": [],
   "source": [
    "import mido\n",
    "import numpy as np\n",
    "from mido import Message, MidiFile, MidiTrack\n",
    "import tensorflow as tf\n",
    "import numpy as np\n",
    "import json\n",
    "import os\n",
    "import pretty_midi\n",
    "import pickle"
   ]
  },
  {
   "attachments": {},
   "cell_type": "markdown",
   "metadata": {},
   "source": [
    "### New Index Reference \n",
    "- training_data[n] selects song at index n \n",
    "- Training_data[n][indicies below]\n",
    "\n",
    "- index 0: 'loudness / segments' loudness level\n",
    "- index 1: 'beats' start binary\n",
    "- index 2: 'beats' duration binary\n",
    "- index 3: 'tatums' start binary\n",
    "- index 4: 'tatums' duration binary\n",
    "- index 5: 'bars' start binary\n",
    "- index 6: 'bars' duration binary\n",
    "- index 7: 'sections' start binary"
   ]
  },
  {
   "cell_type": "code",
   "execution_count": 2,
   "metadata": {},
   "outputs": [],
   "source": [
    "def pull_json_files(epoch_number):\n",
    "    f = open('../Data/Song_Outputs/generated_songs_{}.json'.format(epoch_number))\n",
    "    data = json.load(f)  \n",
    "    return np.array(data).squeeze()"
   ]
  },
  {
   "cell_type": "code",
   "execution_count": 35,
   "metadata": {},
   "outputs": [],
   "source": [
    "with open('padded_training_data.pickle', 'rb') as f:\n",
    "    training_data = pickle.load(f)\n",
    "training_data = np.array(training_data[1])"
   ]
  },
  {
   "cell_type": "code",
   "execution_count": 29,
   "metadata": {},
   "outputs": [],
   "source": [
    "def create_TS_map(duration_ts, sample_rate=10):\n",
    "    #sample_rate is in samples per second, which get converted to ms in the method\n",
    "    sample_rate = sample_rate / 1000\n",
    "    # ms\n",
    "    step = 1/sample_rate\n",
    "    time_row = np.arange(start=step, stop = duration_ts, step = step)\n",
    "    return time_row"
   ]
  },
  {
   "cell_type": "code",
   "execution_count": 30,
   "metadata": {},
   "outputs": [],
   "source": [
    "def velocity_helper(input):\n",
    "    return int(max(min(input,127),0))"
   ]
  },
  {
   "cell_type": "code",
   "execution_count": 37,
   "metadata": {},
   "outputs": [],
   "source": [
    "def create_midi_file(time_series_labels, beats, tatums, loudness, epoch, song_number):\n",
    "    # Create a PrettyMIDI object\n",
    "    mid = pretty_midi.PrettyMIDI()\n",
    "\n",
    "    # Create a Piano instrument\n",
    "    piano = pretty_midi.Instrument(program=pretty_midi.instrument_name_to_program('Acoustic Grand Piano'))\n",
    "    loudness = np.array(loudness)\n",
    "\n",
    "\n",
    "    # Add the notes based on the time_series_labels\n",
    "    for idx in range(len(time_series_labels)):\n",
    "        time = time_series_labels[idx]\n",
    "        beat = beats[idx]\n",
    "        tatum = tatums[idx]\n",
    "        loud = loudness[idx]\n",
    "        \n",
    "        # Normalize the loudness values to the range [0, 1]\n",
    "        # will be used for 'velocity' as it's named in the music space\n",
    "\n",
    "        if (np.max(loudness) - np.min(loudness)) == 0:\n",
    "            loud = 100\n",
    "        else:\n",
    "            loud = velocity_helper(loud - np.min(loudness)) / (np.max(loudness) - np.min(loudness))\n",
    "        \n",
    "        # If the beat is present, add a note with the loudness as velocity\n",
    "        if beat == 1.0:\n",
    "\n",
    "            velocity = loud\n",
    "            assert 0 < velocity < 127\n",
    "            pitch = 60\n",
    "            start= time / 1000\n",
    "            end=(time + 50) / 1000\n",
    "\n",
    "            \n",
    "            note = pretty_midi.Note(velocity=velocity, pitch=pitch, start=start, end=end)\n",
    "            piano.notes.append(note)\n",
    "        \n",
    "        # If the tatum is present, add a note with the tatum number as the pitch\n",
    "        if tatum == 1.0:\n",
    "            tatum_pitch = int(64 + (idx % 4))\n",
    "            note = pretty_midi.Note(velocity=loud, pitch=tatum_pitch, start=time / 1000, end=(time + 50) / 1000)\n",
    "            piano.notes.append(note)\n",
    "    \n",
    "    # Add the instrument to the midi object\n",
    "    mid.instruments.append(piano)\n",
    "    \n",
    "    # Set the tempo\n",
    "    tempo = mid.estimate_tempo()\n",
    "    mid.tempo = tempo\n",
    "    \n",
    "    # Save the midi file\n",
    "    mid.write('../Data/Midi_files/Epoch_{}_Midi_{}.mid'.format(epoch,song_number))\n"
   ]
  },
  {
   "cell_type": "code",
   "execution_count": 38,
   "metadata": {},
   "outputs": [],
   "source": [
    "def create_three_midis(epoch, clip_point,is_generated=True):\n",
    "    time_series_data = create_TS_map(3000, sample_rate=10)\n",
    "    if is_generated:\n",
    "        three_songs = pull_json_files(epoch)\n",
    "    else:\n",
    "        three_songs = []\n",
    "        for i in range(2):\n",
    "            three_songs.append(np.array(training_data[np.random.randint(0,6000)]).squeeze())\n",
    "\n",
    "    count = 1\n",
    "    for song in three_songs:\n",
    "        beats = song[1]\n",
    "        tatums = song[3]\n",
    "        loudness = song[0]\n",
    "        create_midi_file(time_series_labels=time_series_data[:clip_point],beats=beats[:clip_point],tatums=tatums[:clip_point],loudness=loudness[:clip_point],epoch=epoch,song_number=count)\n",
    "        count += 1"
   ]
  },
  {
   "cell_type": "code",
   "execution_count": 41,
   "metadata": {},
   "outputs": [],
   "source": [
    "create_three_midis(99,3000,True)"
   ]
  },
  {
   "cell_type": "code",
   "execution_count": null,
   "metadata": {},
   "outputs": [],
   "source": []
  }
 ],
 "metadata": {
  "kernelspec": {
   "display_name": "base",
   "language": "python",
   "name": "python3"
  },
  "language_info": {
   "codemirror_mode": {
    "name": "ipython",
    "version": 3
   },
   "file_extension": ".py",
   "mimetype": "text/x-python",
   "name": "python",
   "nbconvert_exporter": "python",
   "pygments_lexer": "ipython3",
   "version": "3.9.13"
  },
  "orig_nbformat": 4,
  "vscode": {
   "interpreter": {
    "hash": "167cee73ec1a961f9ac1fcb8b2030bcc34926d11821ce746877c905156829734"
   }
  }
 },
 "nbformat": 4,
 "nbformat_minor": 2
}
