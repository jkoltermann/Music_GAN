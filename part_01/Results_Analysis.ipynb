{
 "cells": [
  {
   "cell_type": "code",
   "execution_count": 47,
   "metadata": {},
   "outputs": [],
   "source": [
    "import json\n",
    "import numpy as np\n",
    "import pickle\n",
    "import matplotlib.pyplot as plt\n",
    "import tensorflow as tf\n",
    "import pandas as pd"
   ]
  },
  {
   "cell_type": "code",
   "execution_count": null,
   "metadata": {},
   "outputs": [],
   "source": [
    "def create_TS_map(duration_ts, sample_rate):\n",
    "    #sample_rate is in samples per second, which get converted to ms in the method\n",
    "    sample_rate = sample_rate / 1000\n",
    "    # ms\n",
    "    step = 1/sample_rate\n",
    "    time_row = list(np.arange(start=step, stop = duration_ts, step = step))\n",
    "    return time_row"
   ]
  },
  {
   "cell_type": "code",
   "execution_count": null,
   "metadata": {},
   "outputs": [],
   "source": [
    "def pull_json_files(epoch_number):\n",
    "    f = open('../Data/Song_Outputs/generated_songs_{}.json'.format(epoch_number))\n",
    "    data = json.load(f)  \n",
    "    return np.array(data)"
   ]
  },
  {
   "cell_type": "code",
   "execution_count": 23,
   "metadata": {},
   "outputs": [],
   "source": [
    "with open('training_2.pickle', 'rb') as f:\n",
    "    training_data = pickle.load(f)\n",
    "training_data = training_data[1]"
   ]
  },
  {
   "cell_type": "code",
   "execution_count": 24,
   "metadata": {},
   "outputs": [],
   "source": [
    "# Opening JSON file\n",
    "f = open('../Data/Song_Outputs/generated_songs_22.json')\n",
    "data = json.load(f)  "
   ]
  },
  {
   "cell_type": "code",
   "execution_count": 25,
   "metadata": {},
   "outputs": [],
   "source": [
    "def create_TS_map(duration_ts, sample_rate):\n",
    "    #sample_rate is in samples per second, which get converted to ms in the method\n",
    "    sample_rate = sample_rate / 1000\n",
    "    # ms\n",
    "    step = 1/sample_rate\n",
    "    time_row = list(np.arange(start=step, stop = duration_ts, step = step))\n",
    "    return time_row"
   ]
  },
  {
   "cell_type": "code",
   "execution_count": 36,
   "metadata": {},
   "outputs": [],
   "source": [
    "subset = np.array(data[0][1:])"
   ]
  },
  {
   "cell_type": "code",
   "execution_count": 45,
   "metadata": {},
   "outputs": [],
   "source": [
    "def visualize_tensor(tensor):\n",
    "    fig, ax = plt.subplots(ncols=3000, figsize=(7,3000))\n",
    "    # Loop four times and get images \n",
    "    tensor.imshow(np.squeeze(tensor))\n",
    "    # Appending the image label as the plot title \n",
    "    "
   ]
  },
  {
   "cell_type": "code",
   "execution_count": 7,
   "metadata": {},
   "outputs": [],
   "source": [
    "output_time_series = create_TS_map(3000,10)"
   ]
  },
  {
   "attachments": {},
   "cell_type": "markdown",
   "metadata": {},
   "source": [
    "### New Index Reference \n",
    "- training_data[n] selects song at index n \n",
    "- Training_data[n][indicies below represent the following datapoints]\n",
    "- index 0: 'loudness / segments' loudness level\n",
    "- index 1: 'beats' start binary\n",
    "- index 2: 'beats' duration binary\n",
    "- index 3: 'tatums' start binary\n",
    "- index 4: 'tatums' duration binary\n",
    "- index 5: 'bars' start binary\n",
    "- index 6: 'bars' duration binary\n",
    "- index 7: 'sections' start binary"
   ]
  },
  {
   "cell_type": "code",
   "execution_count": null,
   "metadata": {},
   "outputs": [
    {
     "data": {
      "text/plain": [
       "6905"
      ]
     },
     "execution_count": 72,
     "metadata": {},
     "output_type": "execute_result"
    }
   ],
   "source": [
    "len(training_data)"
   ]
  },
  {
   "cell_type": "code",
   "execution_count": null,
   "metadata": {},
   "outputs": [],
   "source": [
    "sum = 0\n",
    "count = 0\n",
    "for song in range(len(training_data)):\n",
    "    sum += len(training_data[song][0])\n",
    "    count += 1"
   ]
  },
  {
   "cell_type": "code",
   "execution_count": null,
   "metadata": {},
   "outputs": [
    {
     "data": {
      "text/plain": [
       "2908.754960173787"
      ]
     },
     "execution_count": 80,
     "metadata": {},
     "output_type": "execute_result"
    }
   ],
   "source": [
    "sum / count"
   ]
  },
  {
   "cell_type": "code",
   "execution_count": null,
   "metadata": {},
   "outputs": [],
   "source": []
  }
 ],
 "metadata": {
  "kernelspec": {
   "display_name": "base",
   "language": "python",
   "name": "python3"
  },
  "language_info": {
   "codemirror_mode": {
    "name": "ipython",
    "version": 3
   },
   "file_extension": ".py",
   "mimetype": "text/x-python",
   "name": "python",
   "nbconvert_exporter": "python",
   "pygments_lexer": "ipython3",
   "version": "3.9.13"
  },
  "orig_nbformat": 4,
  "vscode": {
   "interpreter": {
    "hash": "167cee73ec1a961f9ac1fcb8b2030bcc34926d11821ce746877c905156829734"
   }
  }
 },
 "nbformat": 4,
 "nbformat_minor": 2
}
