{
 "cells": [
  {
   "cell_type": "code",
   "execution_count": 3,
   "metadata": {},
   "outputs": [],
   "source": [
    "import pandas as pd"
   ]
  },
  {
   "cell_type": "code",
   "execution_count": 14,
   "metadata": {},
   "outputs": [],
   "source": [
    "class Spotify_Credentials:\n",
    "    def __init__(self):\n",
    "        pass\n",
    "\n",
    "\n",
    "    def save_down_credentials(client_id, secret):\n",
    "        creds = {\n",
    "            'client_id' : client_id,\n",
    "            'client_secret' : secret\n",
    "        }\n",
    "        data = pd.DataFrame(creds,index=[0])\n",
    "        data.to_csv('./spotify_creds.csv')"
   ]
  },
  {
   "cell_type": "code",
   "execution_count": 16,
   "metadata": {},
   "outputs": [],
   "source": [
    "save_down_credentials('bf7981913014450c8a984eb79eaad419','a763340271dd406c89f230459f4abfff')"
   ]
  },
  {
   "cell_type": "code",
   "execution_count": null,
   "metadata": {},
   "outputs": [],
   "source": []
  }
 ],
 "metadata": {
  "kernelspec": {
   "display_name": "base",
   "language": "python",
   "name": "python3"
  },
  "language_info": {
   "codemirror_mode": {
    "name": "ipython",
    "version": 3
   },
   "file_extension": ".py",
   "mimetype": "text/x-python",
   "name": "python",
   "nbconvert_exporter": "python",
   "pygments_lexer": "ipython3",
   "version": "3.9.13 (main, Aug 25 2022, 23:51:50) [MSC v.1916 64 bit (AMD64)]"
  },
  "orig_nbformat": 4,
  "vscode": {
   "interpreter": {
    "hash": "167cee73ec1a961f9ac1fcb8b2030bcc34926d11821ce746877c905156829734"
   }
  }
 },
 "nbformat": 4,
 "nbformat_minor": 2
}
